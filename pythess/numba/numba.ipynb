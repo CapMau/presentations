{
 "cells": [
  {
   "cell_type": "markdown",
   "metadata": {
    "slideshow": {
     "slide_type": "slide"
    }
   },
   "source": [
    "# The need for speed without bothering too much: An introduction to `numba`\n",
    "\n",
    "\n",
    "<img src=\"figures/numba_logo.png\" style=\"display:block;margin:auto;width:70%;\"/>"
   ]
  },
  {
   "cell_type": "markdown",
   "metadata": {
    "slideshow": {
     "slide_type": "slide"
    }
   },
   "source": [
    "# Do you really need the speed?\n",
    "\n",
    "* Write your Python program.\n",
    "* Ensure it executes correctly and does what it is supposed to.\n",
    "* Is it fast enough?\n",
    "* If yes: Ignore the rest of the presentation.\n",
    "* If no:\n",
    "    1. Get it right.\n",
    "    2. Test it's right.\n",
    "    3. Profile if slow.\n",
    "    4. Optimise (C, C++/Cython/`numba` and save yourself the pain).\n",
    "    5. Repeat from 2.\n",
    "    \n",
    "> We *should forget* about small efficiencies, say about 97% of the time: **premature optimization is the root of all evil**.\n",
    "\n",
    "> Yet we should not pass up our opportunities in that critical 3%. A good programmer will not be lulled into complacency by such reasoning, he will be wise to look carefully at the critical code; but only **after** that code has been identified.\n",
    "\n",
    "<p style=\"text-align:right\">**Donald Knuth**</p>"
   ]
  },
  {
   "cell_type": "markdown",
   "metadata": {
    "slideshow": {
     "slide_type": "slide"
    }
   },
   "source": [
    "# The need for speed\n",
    "\n",
    "* For many programs, the most important resource is **developer time**.\n",
    "* The best code is:\n",
    "    * Easy to understand.\n",
    "    * Easy to modify.\n",
    "* But sometimes execution speed matters. Then what do you do?\n",
    "* Go find a compiler!"
   ]
  },
  {
   "cell_type": "markdown",
   "metadata": {
    "slideshow": {
     "slide_type": "slide"
    }
   },
   "source": [
    "# A Python compiler?\n",
    "\n",
    "* Takes advantage of a simple fact:\n",
    "    * Most functions in your program only use a small number of types.\n",
    "* &rightarrow; Generate machine code to manipulate only the types you use!\n",
    "* LLVM (Low Level Virtual Machine) library already implements a compiler backend.\n",
    "   * It is used to construct, optimize and produce intermediate and/or binary machine code.\n",
    "   * A compiler framework, where you provide the \"front end\" (parser and lexer) and the \"back end\" (code that converts LLVM's representation to actual machine code).\n",
    "   * Multi platform.\n",
    "   * LLVM optimizations (inlining, loop unrolling, SIMD vectorization etc)."
   ]
  },
  {
   "cell_type": "markdown",
   "metadata": {
    "slideshow": {
     "slide_type": "slide"
    }
   },
   "source": [
    "# How can `numba` help?\n",
    "\n",
    "* If you have big `numpy` arrays with your data (remember `pandas` uses `numpy` under-the-covers), `numba` makes it easy to write simple functions that are fast that work with that data.\n",
    "* `numba` is an open source JIT (Just-In-Time) compiler for Python functions.\n",
    "* From the types of the function arguments, `numba` can often generate a specialized, fast, machine code implementation at\n",
    "runtime.\n",
    "* Designed to work best with numerical code and `numpy` arrays.\n",
    "* Uses the LLVM library as the compiler backend.\n"
   ]
  },
  {
   "cell_type": "markdown",
   "metadata": {
    "slideshow": {
     "slide_type": "slide"
    }
   },
   "source": [
    "# `numba` features\n",
    "\n",
    "* Numba generates optimized machine code from pure Python code using the LLVM compiler infrastructure. With a few simple annotations, array-oriented and math-heavy Python code can be JIT compiled to performance similar as C, C++ and Fortran, without having to switch languages or Python interpreters.\n",
    "* `numba` supports:\n",
    "    * Windows, OSX and Linux.\n",
    "    * 32 and 64 bit CPUs and NVIDIA GPUs (CUDA).\n",
    "    * `numpy`\n",
    "* Does *not* require any C/C++ compiler.\n",
    "* Does *not* replace the standard Python interpreter (all Python libraries are still available).\n",
    "* Easy to install (`conda` not longer required): `pip install numba` (wheels for Windows/Linux/OSX are available, no need to compile anything)."
   ]
  },
  {
   "cell_type": "markdown",
   "metadata": {
    "slideshow": {
     "slide_type": "slide"
    }
   },
   "source": [
    "# How `numba` works\n",
    "\n",
    "<img src=\"figures/how_numba_works.png\" style=\"display:block;margin:auto;width:80%;\"/>"
   ]
  },
  {
   "cell_type": "markdown",
   "metadata": {
    "slideshow": {
     "slide_type": "slide"
    }
   },
   "source": [
    "# `numba` modes of compilation\n",
    "\n",
    "* **object mode**: Compiled code operates on Python objects. Supports nearly all of Python, but generally cannot speed up code by a large factor. Only significant improvement is the compilation of loops that can be compiled in *nopython* mode.\n",
    "    * In object mode, Numba will attempt perform *loop lifting*, i.e. extract loops and compile them in *nopython* mode.\n",
    "    * Works great for functions that are bookended by uncompilable code, but have a compilable core loop.\n",
    "    * All happens automatically.\n",
    "* **nopython mode**: Compiled code operates on native machine data. Supports a subset of Python, but runs close to C/C++/FORTRAN speed."
   ]
  },
  {
   "cell_type": "markdown",
   "metadata": {
    "slideshow": {
     "slide_type": "slide"
    }
   },
   "source": [
    "# **nopython** mode features\n",
    "* Standard control and looping structures: *if*, *else*, *while*, *for*, *range*.\n",
    "* `numpy` arrays, int, float, complex, booleans, and tuples.\n",
    "* Almost all arithmetic, logical, and bitwise operators as well as functions from the math and numpy modules\n",
    "* Nearly all `numpy` dtypes: int, float, complex, datetime64, timedelta64\n",
    "* Array element access (read and write)\n",
    "* Array reduction functions: sum, prod, max, min, etc.\n",
    "* Calling other nopython mode compiled functions.\n",
    "* Calling `ctypes` or `cffi` wrapped external functions."
   ]
  },
  {
   "cell_type": "markdown",
   "metadata": {
    "slideshow": {
     "slide_type": "slide"
    }
   },
   "source": [
    "# Example 1: Summation"
   ]
  },
  {
   "cell_type": "code",
   "execution_count": 1,
   "metadata": {
    "slideshow": {
     "slide_type": "fragment"
    }
   },
   "outputs": [],
   "source": [
    "from numba import jit\n",
    "\n",
    "def psum(x):\n",
    "    res = 0\n",
    "    for i in range(x):\n",
    "        res += i**2 + 1 + i\n",
    "    return res\n",
    "\n",
    "nsum = jit(psum)"
   ]
  },
  {
   "cell_type": "code",
   "execution_count": 2,
   "metadata": {
    "slideshow": {
     "slide_type": "fragment"
    }
   },
   "outputs": [
    {
     "name": "stdout",
     "output_type": "stream",
     "text": [
      "458 µs ± 5.98 µs per loop (mean ± std. dev. of 7 runs, 1000 loops each)\n",
      "46 ms ± 106 µs per loop (mean ± std. dev. of 7 runs, 10 loops each)\n",
      "169 ns ± 3.21 ns per loop (mean ± std. dev. of 7 runs, 10000000 loops each)\n",
      "167 ns ± 1.81 ns per loop (mean ± std. dev. of 7 runs, 10000000 loops each)\n"
     ]
    }
   ],
   "source": [
    "%timeit -c psum(1000)\n",
    "%timeit -c psum(100000)\n",
    "%timeit -c nsum(1000)\n",
    "%timeit -c nsum(100000000)"
   ]
  },
  {
   "cell_type": "code",
   "execution_count": null,
   "metadata": {},
   "outputs": [],
   "source": []
  },
  {
   "cell_type": "code",
   "execution_count": null,
   "metadata": {},
   "outputs": [],
   "source": []
  },
  {
   "cell_type": "code",
   "execution_count": null,
   "metadata": {},
   "outputs": [],
   "source": []
  },
  {
   "cell_type": "code",
   "execution_count": null,
   "metadata": {},
   "outputs": [],
   "source": []
  },
  {
   "cell_type": "code",
   "execution_count": null,
   "metadata": {},
   "outputs": [],
   "source": []
  },
  {
   "cell_type": "code",
   "execution_count": null,
   "metadata": {},
   "outputs": [],
   "source": []
  },
  {
   "cell_type": "markdown",
   "metadata": {},
   "source": [
    "# References\n",
    "\n",
    "1. [Stanley Seibert - Accelerating Python with the Numba JIT Compiler (SciPy 2015)](https://www.youtube.com/watch?v=eYIPEDnp5C4)\n",
    "* Travis E. Oliphant - Performance Python: Introduction to Numba (PyData 2015)"
   ]
  }
 ],
 "metadata": {
  "celltoolbar": "Slideshow",
  "kernelspec": {
   "display_name": "Python 3",
   "language": "python",
   "name": "python3"
  },
  "language_info": {
   "codemirror_mode": {
    "name": "ipython",
    "version": 3
   },
   "file_extension": ".py",
   "mimetype": "text/x-python",
   "name": "python",
   "nbconvert_exporter": "python",
   "pygments_lexer": "ipython3",
   "version": "3.6.4"
  }
 },
 "nbformat": 4,
 "nbformat_minor": 2
}
