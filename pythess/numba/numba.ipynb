{
 "cells": [
  {
   "cell_type": "markdown",
   "metadata": {},
   "source": [
    "# The need for speed without bothering too much: An introduction to numba\n",
    "\n",
    "\n",
    "<img src=\"figures/numba_logo.png\" style=\"display:block;margin:auto;width:70%;\"/>"
   ]
  },
  {
   "cell_type": "markdown",
   "metadata": {},
   "source": [
    "# Do you really need the speed?\n",
    "\n",
    "* Write your Python program.\n",
    "* Ensure it executes correctly and does what it is supposed to.\n",
    "* Is it fast enough?\n",
    "* If yes: Ignore the rest of the presentation.\n",
    "* If no:\n",
    "    1. Get it right.\n",
    "    2. Test it's right.\n",
    "    3. Profile if slow.\n",
    "    4. Optimise (C, C++/Cython/`numba` and save yourself the pain).\n",
    "    5. Repeat from 2.\n",
    "    \n",
    "> We *should forget* about small efficiencies, say about 97% of the time: **premature optimization is the root of all evil**.\n",
    "\n",
    "> Yet we should not pass up our opportunities in that critical 3%. A good programmer will not be lulled into complacency by such reasoning, he will be wise to look carefully at the critical code; but only **after** that code has been identified.\n",
    "\n",
    "<p style=\"text-align:right\">**Donald Knuth**</p>"
   ]
  },
  {
   "cell_type": "code",
   "execution_count": null,
   "metadata": {},
   "outputs": [],
   "source": []
  },
  {
   "cell_type": "code",
   "execution_count": null,
   "metadata": {},
   "outputs": [],
   "source": []
  },
  {
   "cell_type": "code",
   "execution_count": null,
   "metadata": {},
   "outputs": [],
   "source": []
  },
  {
   "cell_type": "code",
   "execution_count": null,
   "metadata": {},
   "outputs": [],
   "source": []
  },
  {
   "cell_type": "code",
   "execution_count": null,
   "metadata": {},
   "outputs": [],
   "source": []
  },
  {
   "cell_type": "markdown",
   "metadata": {},
   "source": [
    "# References\n",
    "\n",
    "1. [Official Cython Documentation](http://docs.cython.org/en/latest)\n",
    "* [Python Wiki - Performance Tips](https://wiki.python.org/moin/PythonSpeed/PerformanceTips)"
   ]
  },
  {
   "cell_type": "code",
   "execution_count": null,
   "metadata": {},
   "outputs": [],
   "source": []
  }
 ],
 "metadata": {
  "kernelspec": {
   "display_name": "Python 3",
   "language": "python",
   "name": "python3"
  },
  "language_info": {
   "codemirror_mode": {
    "name": "ipython",
    "version": 3
   },
   "file_extension": ".py",
   "mimetype": "text/x-python",
   "name": "python",
   "nbconvert_exporter": "python",
   "pygments_lexer": "ipython3",
   "version": "3.6.4"
  }
 },
 "nbformat": 4,
 "nbformat_minor": 2
}
