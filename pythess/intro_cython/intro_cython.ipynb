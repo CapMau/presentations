{
 "cells": [
  {
   "cell_type": "markdown",
   "metadata": {
    "slideshow": {
     "slide_type": "slide"
    }
   },
   "source": [
    "# The Need for Speed: An Introduction to Cython\n",
    "\n",
    "\n",
    "<img src=\"figures/cython_logo.png\" style=\"display:block;margin:auto;width:70%;\"/>"
   ]
  },
  {
   "cell_type": "markdown",
   "metadata": {
    "slideshow": {
     "slide_type": "slide"
    }
   },
   "source": [
    "# Do you really need the speed?\n",
    "\n",
    "* Write your Python program.\n",
    "* Ensure it executes correctly and does what it is supposed to.\n",
    "* Is it fast enough?\n",
    "* If yes: Ignore the rest of the presentation.\n",
    "* If no:\n",
    "    1. Get it right.\n",
    "    2. Test it's right.\n",
    "    3. Profile if slow.\n",
    "    4. Optimise (C/C++ or use Cython and save yourself the pain).\n",
    "    5. Repeat from 2.\n",
    "    \n",
    "> We *should forget* about small efficiencies, say about 97% of the time: **premature optimization is the root of all evil**.\n",
    "\n",
    "> Yet we should not pass up our opportunities in that critical 3%. A good programmer will not be lulled into complacency by such reasoning, he will be wise to look carefully at the critical code; but only **after** that code has been identified.\n",
    "\n",
    "**Donald Knuth**"
   ]
  },
  {
   "cell_type": "markdown",
   "metadata": {
    "slideshow": {
     "slide_type": "slide"
    }
   },
   "source": [
    "# What is Cython?\n",
    "\n",
    "* Cython is a superset of the Python language.\n",
    "* Cython translates Python code to equivalent C code.\n",
    "* This code is executed within the CPython runtime environment, but at the speed of compiled C and with the ability to call directly into C libraries. \n",
    "* At the same time, it keeps the original interface of the Python source code, which makes it directly usable from Python code.\n",
    "* This enables Cython's two major use cases:\n",
    "    1. Extending the CPython interpreter with fast binary modules.\n",
    "    2. Interfacing Python code with external C libraries.\n",
    "* While Cython can compile (most) regular Python code, the generated C code usually gains major (and sometime impressive) speed improvements from optional static type declarations for both Python and C types."
   ]
  },
  {
   "cell_type": "markdown",
   "metadata": {
    "slideshow": {
     "slide_type": "slide"
    }
   },
   "source": [
    "# Why is Python slow?\n",
    "\n",
    "* Contrary to popular belief, Python is **not** slow because it is interpreted. You could use Cython to convert Python to C and compile it and you would gain minimal speedups.\n",
    "* The main reason that Python is slow is that it's **dynamically** typed.\n",
    "* At the time the program executes, the interpreter *doesn't know the type of the variables* that are defined. Everything is an *object*, everything is in a *box* which results in **boxing–unboxing overhead**.\n",
    "* There is also significant overhead on attribute lookups. For instance, calling a method `f` on an object `a` will cause possible lookups in `__dict__`, calls to `__getattr__`, etc, then finally call `__call__` on the callable object `f`. This process cannot be optimised for the reason metioned above."
   ]
  },
  {
   "cell_type": "markdown",
   "metadata": {
    "slideshow": {
     "slide_type": "fragment"
    }
   },
   "source": [
    "<img src=\"figures/boxing_1.png\" style=\"display:block;margin:auto;width:70%;\"/>"
   ]
  },
  {
   "cell_type": "markdown",
   "metadata": {
    "slideshow": {
     "slide_type": "fragment"
    }
   },
   "source": [
    "<img src=\"figures/boxing_2.png\" style=\"display:block;margin:auto;width:70%;\"/>"
   ]
  },
  {
   "cell_type": "markdown",
   "metadata": {
    "slideshow": {
     "slide_type": "slide"
    }
   },
   "source": [
    "# Building Cython code\n",
    "\n",
    "Cython code must, unlike Python, be compiled. This happens in two stages:\n",
    "* A `.pyx` file is compiled by Cython to a `.c` file, containing the code of a Python extension module,\n",
    "* The `.c` file is compiled by a `C` compiler to a `.so` file (or `.pyd` on Windows) which can be imported directly into a Python session.\n",
    "    \n",
    "There are several ways to build Cython code:\n",
    "* Write a distutils (or setuptools) `setup.py`.\n",
    "* Use `pyximport`, importing Cython `.pyx` files as if they were `.py` files (using distutils to compile and build in the background).\n",
    "* Run the cython command-line utility manually to produce the `.c` file from the `.pyx` file, then manually compiling the `.c` file into a shared object library or DLL suitable for import from Python. (These manual steps are mostly for debugging and experimentation.)\n",
    "* Use the [Jupyter notebook](http://cython.readthedocs.io/en/latest/src/quickstart/build.html#jupyter), which allows Cython code inline."
   ]
  },
  {
   "cell_type": "markdown",
   "metadata": {
    "slideshow": {
     "slide_type": "slide"
    }
   },
   "source": [
    "# Cython workflow\n",
    "\n",
    "<img src=\"figures/compilation.png\" style=\"display:block;margin:auto;width:100%;\"/>"
   ]
  },
  {
   "cell_type": "markdown",
   "metadata": {
    "collapsed": true,
    "slideshow": {
     "slide_type": "slide"
    }
   },
   "source": [
    "# Cython Hello World\n",
    "\n",
    "1. Create a `helloworld.pyx`:\n",
    "```Python\n",
    "print(\"Hello World\")\n",
    "```\n",
    "2. Create a `setup.py`, which is like a Python makefile:\n",
    "```Python\n",
    "from distutils.core import setup\n",
    "from Cython.Build import cythonize\n",
    "setup(ext_modules = cythonize('helloworld.pyx'))\n",
    "```\n",
    "3. Build the Cython file:\n",
    "```Bash\n",
    "python setup.py build_ext --inplace\n",
    "```\n",
    "4. This will leave a file in your local directory called `helloworld.so` in unix or `helloworld.pyd` in Windows. To use this file, simply import it as if it was a regular python module:\n",
    "```Python\n",
    ">>> import helloworld\n",
    "Hello World\n",
    "```"
   ]
  },
  {
   "cell_type": "markdown",
   "metadata": {
    "collapsed": true,
    "slideshow": {
     "slide_type": "slide"
    }
   },
   "source": [
    "# `pyximport`: Cython compilation the easy way\n",
    "\n",
    "If your module doesn't require any extra C libraries or a special build setup, then you can use the `pyximport` module to load `.pyx` files directly on import, without having to write a `setup.py` file:\n",
    "```Python\n",
    ">>> import pyximport; pyximport.install()\n",
    ">>> import helloworld\n",
    "Hello World\n",
    "```\n",
    "It is also possible to compile new `.py` modules that are being imported (including the standard library and installed packages). For using this feature, just tell that to `pyximport`:\n",
    "```Python\n",
    ">>> pyximport.install(pyimport=True)\n",
    "```"
   ]
  },
  {
   "cell_type": "markdown",
   "metadata": {
    "slideshow": {
     "slide_type": "slide"
    }
   },
   "source": [
    "# Cython file types\n",
    "\n",
    "There are three file types in Cython:\n",
    "1. **Implementation** files carry a `.pyx` suffix. Can contain basically anything Cythonic.\n",
    "2. **Definition** files carry a `.pxd` suffix. They work like C header files and contain Cython declarations (and sometimes code sections), which are only meant for inclusion by Cython modules. A `.pxd` file is imported into a `.pyx` module by using the `cimport` keyword. Use `cimport` as you would Python’s import statement, to access these files from other definition or implementation files.\n",
    "3. **Include** files which carry a `.pxi` suffix. Can contain any Cythonic code, because the entire file is textually embedded at the location you prescribe. Include the `.pxi` file with an `include` statement like: `include \"spamstuff.pxi\"`\n",
    "`cimport`\n"
   ]
  },
  {
   "cell_type": "markdown",
   "metadata": {
    "collapsed": true,
    "slideshow": {
     "slide_type": "slide"
    }
   },
   "source": [
    "# Variable and type definitions\n",
    "\n",
    "The `cdef` statement is used to declare C variables, either local or module-level\n",
    "```Cython\n",
    "cdef int i, j, k\n",
    "cdef float f, g[42], *h\n",
    "```\n",
    "and C `struct`, `union` or `enum` types:\n",
    "```Cython\n",
    "cdef struct Grail:\n",
    "    int age\n",
    "    float volume\n",
    "\n",
    "cdef union Food:\n",
    "    char *spam\n",
    "    float *eggs\n",
    "\n",
    "cdef enum CheeseType:\n",
    "    cheddar, edam,\n",
    "    camembert\n",
    "\n",
    "cdef enum CheeseState:\n",
    "    hard = 1\n",
    "    soft = 2\n",
    "    runny = 3\n",
    "```\n",
    "Grouping multiple C declarations:\n",
    "```Cython\n",
    "cdef:\n",
    "    struct Spam:\n",
    "        int tons\n",
    "\n",
    "    int i\n",
    "    float a\n",
    "    Spam *p\n",
    "\n",
    "    void f(Spam *s):\n",
    "        print s.tons, \"Tons of spam\"\n",
    "```"
   ]
  },
  {
   "cell_type": "markdown",
   "metadata": {
    "collapsed": true,
    "slideshow": {
     "slide_type": "slide"
    }
   },
   "source": [
    "# Functions and Methods\n",
    "\n",
    "1. `def`: callable from Python.\n",
    "    * Declared with the `def` statement.\n",
    "    * Called with Python objects.\n",
    "    * Return Python objects.  \n",
    "<br />\n",
    "2. `cdef`: callable from Cython or C.\n",
    "    * Declared with the `cdef` statement.\n",
    "    * Called with either Python objects or C values.\n",
    "    * Return either Python objects or C values.  \n",
    "<br />\n",
    "3. `cpdef`: callable from Python, Cython or C.\n",
    "    * Declared with the `cpdef` statement.\n",
    "    * Can be called from anywhere, because it uses a little Cython magic.\n",
    "    * Uses the faster C calling conventions when being called from other Cython code."
   ]
  },
  {
   "cell_type": "markdown",
   "metadata": {
    "collapsed": true,
    "slideshow": {
     "slide_type": "slide"
    }
   },
   "source": [
    "# Arrays, `numpy` and memoryviews\n",
    "\n",
    "* Python has a builtin array module supporting dynamic 1-dimensional arrays of primitive types. It is possible to access the underlying C array of a Python array from within Cython.\n",
    "* Before typed memoryviews, Cython had different syntax for working efficiently with `numpy` arrays and other buffer-supporting objects. This original buffer syntax is still in use, but it has been superseded by typed memoryviews, which provide more features and cleaner syntax.\n",
    "\n",
    "```Cython\n",
    "cimport numpy as np\n",
    "\n",
    "def convolve(np.ndarray[double, ndim=2] f, np.ndarray[double, ndim=2] g):\n",
    "    cdef:\n",
    "        np.ndarray[double, ndim=2] h\n",
    "        # ...other static declarations\n",
    "    h = np.zeros((xmax, ymax), dtype=np.double_t)\n",
    "```\n",
    "\n",
    "* Typed memoryviews allow efficient access to memory buffers (such as `numpy` arrays, C arrays, or C++ vectors) without any Python overhead.  Typed memoryviews can work with a wider range of buffer-supporting objects: `numpy` arrays, Python memoryview objects, `array.array` objects, and any other type that supports the new buffer protocol. They can also work with C arrays. They\n",
    "are therefore more general than the `numpy` array buffer syntax, which is restricted to work with `numpy` arrays only.\n",
    "\n",
    "```Cython\n",
    "def convolve(double[:, ::1] f, double[:, ::1] g):\n",
    "    cdef:\n",
    "        double[:, ::1] h\n",
    "        # ...\n",
    "```"
   ]
  },
  {
   "cell_type": "markdown",
   "metadata": {
    "collapsed": true,
    "slideshow": {
     "slide_type": "slide"
    }
   },
   "source": [
    "# Extension types (`cdef` classes)\n",
    "\n",
    "* Somewhat restricted compared to Python classes, but generally more memory efficient and faster. The main difference is that they use a C struct to store their fields and methods instead of a Python dict.\n",
    "* This allows them to store arbitrary C types in their fields without requiring a Python wrapper for them, and to access fields and methods directly at the C level without passing through a Python dictionary lookup\n",
    "* Normal Python classes can inherit from `cdef` classes, but not the other way around. They can also inherit from any number of Python classes and extension types, both in Cython code and pure Python code.\n",
    "\n",
    "```Cython\n",
    "cdef class Particle: # Creates a new type, like list, int, dict\n",
    "    cdef float *vel, *pos  # attributes stored in instance’s struct\n",
    "    cdef public float m  # expose variable to Python.\n",
    "    \n",
    "    def __cinit__(self, float m, p, v):  # allocate C-level data,\n",
    "        self.m = m  # called before __init__()\n",
    "        self.vel = malloc(3*sizeof(float))\n",
    "        self.pos = malloc(3*sizeof(float))\n",
    "        # check if vel or pos are NULL...\n",
    "        for i in range(3):\n",
    "            self.vel[i] = v[i]; self.pos[i] = p[i]\n",
    "            \n",
    "    cpdef apply_impulse(self, f, t):  # methods can be def, cdef, or cpdef.\n",
    "        # ...\n",
    "        \n",
    "    def __dealloc__(self):  # deallocate C arrays, called when gc’d.\n",
    "        if self.vel: free(self.vel)\n",
    "        if self.pos: free(self.pos)\n",
    "```"
   ]
  },
  {
   "cell_type": "code",
   "execution_count": null,
   "metadata": {
    "collapsed": true
   },
   "outputs": [],
   "source": []
  },
  {
   "cell_type": "code",
   "execution_count": null,
   "metadata": {
    "collapsed": true
   },
   "outputs": [],
   "source": []
  },
  {
   "cell_type": "code",
   "execution_count": null,
   "metadata": {
    "collapsed": true
   },
   "outputs": [],
   "source": []
  },
  {
   "cell_type": "code",
   "execution_count": null,
   "metadata": {
    "collapsed": true
   },
   "outputs": [],
   "source": []
  },
  {
   "cell_type": "markdown",
   "metadata": {},
   "source": [
    "# References\n",
    "\n",
    "1. [Official Cython Documentation](http://docs.cython.org/en/latest)\n",
    "* [Python Wiki - Performance Tips](https://wiki.python.org/moin/PythonSpeed/PerformanceTips)\n",
    "* [StackOverflow - Why are Python Programs often slower than the Equivalent Program Written in C or C++?](http://stackoverflow.com/questions/3033329/why-are-python-programs-often-slower-than-the-equivalent-program-written-in-c-or)\n",
    "* [P. Virtanen - The Quest for Speed (intro): Interfacing to C with Cython (Advanced Scientific Programming in Python Summer School, 2011)](https://python.g-node.org/python-summerschool-2011/_media/materials/cython/cython-slides.pdf)\n",
    "* [K. Smith - Cython: Blend the Best of Python and C++ (SciPy 2015 Tutorial)](https://www.youtube.com/watch?v=gMvkiQ-gOW8)\n",
    "* K. Smith - Cython, A Guide for Python Programmers (2015), O' Reilly Media"
   ]
  },
  {
   "cell_type": "code",
   "execution_count": null,
   "metadata": {
    "collapsed": true
   },
   "outputs": [],
   "source": []
  }
 ],
 "metadata": {
  "celltoolbar": "Slideshow",
  "kernelspec": {
   "display_name": "Python 3",
   "language": "python",
   "name": "python3"
  },
  "language_info": {
   "codemirror_mode": {
    "name": "ipython",
    "version": 3
   },
   "file_extension": ".py",
   "mimetype": "text/x-python",
   "name": "python",
   "nbconvert_exporter": "python",
   "pygments_lexer": "ipython3",
   "version": "3.6.1"
  }
 },
 "nbformat": 4,
 "nbformat_minor": 2
}
